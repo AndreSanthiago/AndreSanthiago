{
  "nbformat": 4,
  "nbformat_minor": 0,
  "metadata": {
    "colab": {
      "provenance": [],
      "authorship_tag": "ABX9TyP4s6QkvUsoRBNuNhcDRrJ0",
      "include_colab_link": true
    },
    "kernelspec": {
      "name": "python3",
      "display_name": "Python 3"
    },
    "language_info": {
      "name": "python"
    }
  },
  "cells": [
    {
      "cell_type": "markdown",
      "metadata": {
        "id": "view-in-github",
        "colab_type": "text"
      },
      "source": [
        "<a href=\"https://colab.research.google.com/github/AndreSanthiago/AndreSanthiago/blob/main/meu_primeiro_codigo.ipynb\" target=\"_parent\"><img src=\"https://colab.research.google.com/assets/colab-badge.svg\" alt=\"Open In Colab\"/></a>"
      ]
    },
    {
      "cell_type": "code",
      "execution_count": null,
      "metadata": {
        "id": "jgIqXm-hef8G"
      },
      "outputs": [],
      "source": []
    },
    {
      "cell_type": "markdown",
      "source": [
        "**\"MEU PRIMEIRO CODIGO\"**"
      ],
      "metadata": {
        "id": "VYfodwq1g77s"
      }
    },
    {
      "cell_type": "code",
      "source": [
        "\"HELLO WORLD\""
      ],
      "metadata": {
        "colab": {
          "base_uri": "https://localhost:8080/",
          "height": 36
        },
        "id": "9xzUVhgvhHMS",
        "outputId": "15c0e0b7-433a-4139-c6a0-f50b7f97da93"
      },
      "execution_count": 1,
      "outputs": [
        {
          "output_type": "execute_result",
          "data": {
            "text/plain": [
              "'HELLO WORLD'"
            ],
            "application/vnd.google.colaboratory.intrinsic+json": {
              "type": "string"
            }
          },
          "metadata": {},
          "execution_count": 1
        }
      ]
    },
    {
      "cell_type": "markdown",
      "source": [
        "CONTAS"
      ],
      "metadata": {
        "id": "LgyVvz8wh6pB"
      }
    },
    {
      "cell_type": "code",
      "source": [
        "2 + 5\n",
        "10 + 2"
      ],
      "metadata": {
        "colab": {
          "base_uri": "https://localhost:8080/"
        },
        "id": "_ALQ6rlWh9IQ",
        "outputId": "426c0fc5-9356-4452-c97e-0d0e8da84716"
      },
      "execution_count": 4,
      "outputs": [
        {
          "output_type": "execute_result",
          "data": {
            "text/plain": [
              "12"
            ]
          },
          "metadata": {},
          "execution_count": 4
        }
      ]
    },
    {
      "cell_type": "code",
      "source": [
        "import this"
      ],
      "metadata": {
        "colab": {
          "base_uri": "https://localhost:8080/"
        },
        "id": "rbh4jwVUiwK9",
        "outputId": "dc605776-4ac1-46bd-9d62-f6e245e2bcd9"
      },
      "execution_count": 5,
      "outputs": [
        {
          "output_type": "stream",
          "name": "stdout",
          "text": [
            "The Zen of Python, by Tim Peters\n",
            "\n",
            "Beautiful is better than ugly.\n",
            "Explicit is better than implicit.\n",
            "Simple is better than complex.\n",
            "Complex is better than complicated.\n",
            "Flat is better than nested.\n",
            "Sparse is better than dense.\n",
            "Readability counts.\n",
            "Special cases aren't special enough to break the rules.\n",
            "Although practicality beats purity.\n",
            "Errors should never pass silently.\n",
            "Unless explicitly silenced.\n",
            "In the face of ambiguity, refuse the temptation to guess.\n",
            "There should be one-- and preferably only one --obvious way to do it.\n",
            "Although that way may not be obvious at first unless you're Dutch.\n",
            "Now is better than never.\n",
            "Although never is often better than *right* now.\n",
            "If the implementation is hard to explain, it's a bad idea.\n",
            "If the implementation is easy to explain, it may be a good idea.\n",
            "Namespaces are one honking great idea -- let's do more of those!\n"
          ]
        }
      ]
    },
    {
      "cell_type": "markdown",
      "source": [
        "Print"
      ],
      "metadata": {
        "id": "gmnYl91mk-H0"
      }
    },
    {
      "cell_type": "code",
      "source": [
        "2 + 5\n",
        "print(2 + 5)"
      ],
      "metadata": {
        "colab": {
          "base_uri": "https://localhost:8080/"
        },
        "id": "JCvUJ0BJlAQ1",
        "outputId": "f70fd25b-2bf4-4c78-ad80-e72ee5bd29fc"
      },
      "execution_count": 6,
      "outputs": [
        {
          "output_type": "stream",
          "name": "stdout",
          "text": [
            "7\n"
          ]
        }
      ]
    },
    {
      "cell_type": "code",
      "source": [
        "n1 = 2 + 5\n",
        "n2 = 10 + 2\n",
        "t1 = \"HELLO WORLD\"\n",
        "print(n1)\n",
        "print(n2)\n",
        "print(t1)"
      ],
      "metadata": {
        "colab": {
          "base_uri": "https://localhost:8080/"
        },
        "id": "3p0pEQvElQC3",
        "outputId": "379d6fdc-5bbe-455e-a190-ad49f9409985"
      },
      "execution_count": 9,
      "outputs": [
        {
          "output_type": "stream",
          "name": "stdout",
          "text": [
            "7\n",
            "12\n",
            "HELLO WORLD\n"
          ]
        }
      ]
    },
    {
      "cell_type": "code",
      "source": [
        "s1 = n1 + n2\n",
        "print(s1)"
      ],
      "metadata": {
        "colab": {
          "base_uri": "https://localhost:8080/"
        },
        "id": "rf4UXZBzmDoF",
        "outputId": "bc802382-a77a-4be4-a7e1-981bde80741a"
      },
      "execution_count": 10,
      "outputs": [
        {
          "output_type": "stream",
          "name": "stdout",
          "text": [
            "19\n"
          ]
        }
      ]
    },
    {
      "cell_type": "markdown",
      "source": [
        "**EXERCICIO 1**"
      ],
      "metadata": {
        "id": "8IrOza1ym8Ri"
      }
    },
    {
      "cell_type": "code",
      "source": [
        "nome = \"Andre\"\n",
        "idade = 48\n",
        "peso = 100\n",
        "altura = 1.82\n",
        "print(nome, idade, peso, altura)\n",
        "\n",
        "print(type(nome))\n",
        "print(type(idade))\n",
        "print(type(peso))\n",
        "print(type(altura))\n",
        "#"
      ],
      "metadata": {
        "colab": {
          "base_uri": "https://localhost:8080/"
        },
        "id": "ow2oSEBcnEWp",
        "outputId": "c220e018-222d-43a6-a607-16c810a63f01"
      },
      "execution_count": 21,
      "outputs": [
        {
          "output_type": "stream",
          "name": "stdout",
          "text": [
            "Andre 48 100 1.82\n",
            "<class 'str'>\n",
            "<class 'int'>\n",
            "<class 'int'>\n",
            "<class 'float'>\n"
          ]
        }
      ]
    },
    {
      "cell_type": "markdown",
      "source": [
        "**Variaveis com interatividade**"
      ],
      "metadata": {
        "id": "m3QWvYN-rh8V"
      }
    },
    {
      "cell_type": "code",
      "source": [
        "nome = input(\"Qual o seu nome?\")\n",
        "idade = input(\"Qual a sua idade?\")\n",
        "peso = input(\"Qual o seu peso?\")\n",
        "altura = input(\"Qual a sua altura?\")\n",
        "print(nome, idade, peso, altura)"
      ],
      "metadata": {
        "colab": {
          "base_uri": "https://localhost:8080/"
        },
        "id": "YGSKXiYXrp39",
        "outputId": "b4064122-d17f-4b86-b095-9b0704cf845d"
      },
      "execution_count": 24,
      "outputs": [
        {
          "output_type": "stream",
          "name": "stdout",
          "text": [
            "Qual o seu nome?Andre\n",
            "Qual a sua idade?48\n",
            "Qual o seu peso?100\n",
            "Qual a sua altura?1.82\n",
            "Andre 48 100 1.82\n"
          ]
        }
      ]
    }
  ]
}